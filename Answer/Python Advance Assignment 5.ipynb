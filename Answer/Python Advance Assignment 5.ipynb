{
 "cells": [
  {
   "cell_type": "code",
   "execution_count": null,
   "id": "e2603972",
   "metadata": {},
   "outputs": [],
   "source": [
    "Q.1 What is the meaning of multiple inheritance?\n",
    "\n",
    "Multiple inheritance means that a subclass can inherit from two or more superclasses."
   ]
  },
  {
   "cell_type": "code",
   "execution_count": null,
   "id": "73ad1eb3",
   "metadata": {},
   "outputs": [],
   "source": [
    "Q.2 What is the concept of delegation?\n",
    "\n",
    "In object-oriented programming, delegation refers to evaluating a member (property or method) \n",
    "of one object (the receiver) in the context of another original object (the sender)."
   ]
  },
  {
   "cell_type": "markdown",
   "id": "b7465fc8",
   "metadata": {},
   "source": [
    "Q.3 What is the concept of composition?\n",
    "\n",
    "Composition is a concept that models a has a relationship. It enables creating complex types by combining \n",
    "objects of other types."
   ]
  },
  {
   "cell_type": "markdown",
   "id": "65210041",
   "metadata": {},
   "source": [
    "Q.4 What are bound methods and how do we use them?\n",
    "\n",
    "A bound method is the one which is dependent on the instance of the class as the first argument. It passes the instance \n",
    "as the first argument which is used to access the variables and functions"
   ]
  },
  {
   "cell_type": "markdown",
   "id": "342d2166",
   "metadata": {},
   "source": [
    "Q.5 What is the purpose of pseudoprivate attributes?\n",
    "\n",
    "pseudoprivate is just a way to localize a name to the class that created it, and does not prevent access by code outside the class. That is, this feature is mostly intended to avoid namespace collisions in instances, not to restrict access to names in general."
   ]
  }
 ],
 "metadata": {
  "kernelspec": {
   "display_name": "Python 3 (ipykernel)",
   "language": "python",
   "name": "python3"
  },
  "language_info": {
   "codemirror_mode": {
    "name": "ipython",
    "version": 3
   },
   "file_extension": ".py",
   "mimetype": "text/x-python",
   "name": "python",
   "nbconvert_exporter": "python",
   "pygments_lexer": "ipython3",
   "version": "3.9.7"
  }
 },
 "nbformat": 4,
 "nbformat_minor": 5
}
