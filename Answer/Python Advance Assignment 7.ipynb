{
 "cells": [
  {
   "cell_type": "markdown",
   "id": "ed6358b4",
   "metadata": {},
   "source": [
    "Q.1 What is the purpose of the try statement?\n",
    "\n",
    "The try block lets you test a block of code for errors. The except block lets you handle the error."
   ]
  },
  {
   "cell_type": "markdown",
   "id": "66968cf7",
   "metadata": {},
   "source": [
    "Q.2 What are the two most popular try statement variations?\n",
    "\n",
    "- Syntax error\n",
    "- Exceptions"
   ]
  },
  {
   "cell_type": "markdown",
   "id": "3371c67f",
   "metadata": {},
   "source": [
    "Q.3 What is the purpose of the raise statement?\n",
    "\n",
    "he raise keyword is used to raise an exception. \n",
    "What kind of error to raise, and the text to print"
   ]
  },
  {
   "cell_type": "markdown",
   "id": "2a6bab81",
   "metadata": {},
   "source": [
    "Q.4 What does the assert statement do, and what other statement is it like?\n",
    "\n",
    "ssert statement has a condition and if the condition is not satisfied the program will stop and give AssertionError "
   ]
  },
  {
   "cell_type": "markdown",
   "id": "4be1a70a",
   "metadata": {},
   "source": [
    "Q.5 What is the purpose of the with/as argument, and what other statement is it like?\n",
    "\n",
    "Thus, with statement helps avoiding bugs and leaks by ensuring that a resource is properly released when the code using the resource is completely executed. The with statement is popularly used with file streams, as shown above and with Locks, sockets, subprocesses and telnets etc."
   ]
  },
  {
   "cell_type": "code",
   "execution_count": null,
   "id": "92671b0a",
   "metadata": {},
   "outputs": [],
   "source": []
  }
 ],
 "metadata": {
  "kernelspec": {
   "display_name": "Python 3 (ipykernel)",
   "language": "python",
   "name": "python3"
  },
  "language_info": {
   "codemirror_mode": {
    "name": "ipython",
    "version": 3
   },
   "file_extension": ".py",
   "mimetype": "text/x-python",
   "name": "python",
   "nbconvert_exporter": "python",
   "pygments_lexer": "ipython3",
   "version": "3.9.7"
  }
 },
 "nbformat": 4,
 "nbformat_minor": 5
}
