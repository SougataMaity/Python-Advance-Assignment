{
 "cells": [
  {
   "cell_type": "markdown",
   "id": "1cbbcf21",
   "metadata": {},
   "source": [
    "Q.1 What are the new features added in Python 3.8 version?\n",
    "\n",
    "Python 3.8 allows the use of the above discussed assignment operator and equal sign (=) inside the f strings.\n",
    "\n",
    "a = 5\n",
    "b = 10 \n",
    "\n",
    "print(f'{a+b = }')\n",
    "a+b = 15\n",
    "\n",
    "print(f'{(c := a+b)}')\n",
    "15"
   ]
  },
  {
   "cell_type": "markdown",
   "id": "a21dd32e",
   "metadata": {},
   "source": [
    "Q.2 What is monkey patching in Python?\n",
    "\n",
    "In Python, the term monkey patch only refers to dynamic modifications of a class or module at runtime, motivated by the intent to patch existing third-party code as a workaround to a bug or feature which does not act as you desire."
   ]
  },
  {
   "cell_type": "markdown",
   "id": "f3a49044",
   "metadata": {},
   "source": [
    "Q.3 What is the difference between a shallow copy and deep copy?\n",
    "\n",
    "copy() create reference to original object. If you change copied object - you change the original object. \n",
    "deepcopy() creates new object and does real copying of original object to new one.\n",
    "Changing new deepcopied object doesn't affect original object."
   ]
  },
  {
   "cell_type": "markdown",
   "id": "c9853772",
   "metadata": {},
   "source": [
    "Q.4 What is the maximum possible length of an identifier?\n",
    "\n",
    "Identifiers can be a combination of letters, numbers, special symbols, etc. \n",
    "But it must not extend 31 characters."
   ]
  },
  {
   "cell_type": "markdown",
   "id": "1a0e8044",
   "metadata": {},
   "source": [
    "Q.5 What is generator comprehension?\n",
    "\n",
    "A generator comprehension is a single-line specification for defining a generator in Python"
   ]
  },
  {
   "cell_type": "code",
   "execution_count": null,
   "id": "eac708a3",
   "metadata": {},
   "outputs": [],
   "source": [
    "\n"
   ]
  }
 ],
 "metadata": {
  "kernelspec": {
   "display_name": "Python 3 (ipykernel)",
   "language": "python",
   "name": "python3"
  },
  "language_info": {
   "codemirror_mode": {
    "name": "ipython",
    "version": 3
   },
   "file_extension": ".py",
   "mimetype": "text/x-python",
   "name": "python",
   "nbconvert_exporter": "python",
   "pygments_lexer": "ipython3",
   "version": "3.9.10"
  }
 },
 "nbformat": 4,
 "nbformat_minor": 5
}
