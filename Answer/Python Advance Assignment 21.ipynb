{
 "cells": [
  {
   "cell_type": "markdown",
   "id": "9213f4ee",
   "metadata": {},
   "source": [
    "Q.1 What is a probability distribution, exactly? If the values are meant to be random, how can you\n",
    "predict them at all?\n",
    "\n",
    "Probability distribution describe how probabilities are distributes over the values of a random variable.\n",
    "If random variabe Discrite then its called pmf and define p(x).\n",
    "If random variabe Continous then its called pdf and define f(x).\n",
    "\n",
    "For prediction at first know the distribution behaviour and parametrs."
   ]
  },
  {
   "cell_type": "markdown",
   "id": "bea36c91",
   "metadata": {},
   "source": [
    "Q.2 Is there a distinction between true random numbers and pseudo-random numbers, if there is\n",
    "one? Why are the latter considered “good enough”?\n",
    "\n",
    "Random number\n",
    "- uniformity : Each number hold equal probability \n",
    "- Independent : No number dependent each others\n",
    "\n",
    "pseudo Random Number\n",
    "- Software generated random numbers are calles pseudo random number\n",
    "- Not truly random algorthm based on a distribution\n",
    "If we knowthe seed number then we easyly predict the numbers\n",
    "\n",
    "Pseudo random number generated in python excel are based on thr Merseen Twister algorithm"
   ]
  },
  {
   "cell_type": "markdown",
   "id": "f1a2b311",
   "metadata": {},
   "source": [
    "Q.3 What are the two main factors that influence the behaviour of a &quot;normal&quot; probability distribution?\n",
    "\n",
    "- Bell shape (most of the data points clusters arrount the middle)\n",
    "- Mean median and mode are equal (symmetric)\n",
    "- Mean and variance parameter of normal distribution\n",
    "\n",
    "Skewness and kurtosis effect the the behaviour of normal distribution."
   ]
  },
  {
   "cell_type": "markdown",
   "id": "d18308bf",
   "metadata": {},
   "source": [
    "Q.4 Provide a real-life example of a normal distribution.\n",
    "\n",
    "- Shoes size\n",
    "- Height of Male\n",
    "- Fall in a relationship"
   ]
  },
  {
   "cell_type": "markdown",
   "id": "909bc545",
   "metadata": {},
   "source": [
    "Q.5 In the short term, how can you expect a probability distribution to behave? What do you think will\n",
    "happen as the number of trials grows?"
   ]
  },
  {
   "cell_type": "markdown",
   "id": "18efc1af",
   "metadata": {},
   "source": [
    "Q.6 What kind of object can be shuffled by using random.shuffle?\n",
    "\n",
    "Shuffle the elements of a sequence in place. Rather than generating a new sequence"
   ]
  },
  {
   "cell_type": "markdown",
   "id": "a141da41",
   "metadata": {},
   "source": [
    "Q.7 Describe the math package&#39;s general categories of functions.\n",
    "\n",
    "Math package of python help to import basic and usefull math function like pi, tau, inf, nan, floor e.t.c\n",
    "Just write import math its a inbuild module\n",
    "Its also help the trigonometric, square, logarithmic e.t.c function"
   ]
  },
  {
   "cell_type": "markdown",
   "id": "c9fe7468",
   "metadata": {},
   "source": [
    "Q.8 What is the relationship between exponentiation and logarithms?\n",
    "\n",
    "Logarithmic functions are the inverses of exponential functions\n",
    "\n",
    "if a function y = e<sup>x</sup>\n",
    "\n",
    "then log(y) = x"
   ]
  },
  {
   "cell_type": "markdown",
   "id": "6d266a31",
   "metadata": {},
   "source": [
    "Q.9 What are the three logarithmic functions that Python supports?\n",
    "\n",
    "- log<sub>2</sub><sup>x</sup>  : log base 2\n",
    "- log<sub>10</sub><sup>x</sup> : log base 10\n",
    "- log<sub>n</sub><sup>x</sup>  : log base n"
   ]
  },
  {
   "cell_type": "code",
   "execution_count": null,
   "id": "c1b1ffab",
   "metadata": {},
   "outputs": [],
   "source": []
  }
 ],
 "metadata": {
  "kernelspec": {
   "display_name": "Python 3 (ipykernel)",
   "language": "python",
   "name": "python3"
  },
  "language_info": {
   "codemirror_mode": {
    "name": "ipython",
    "version": 3
   },
   "file_extension": ".py",
   "mimetype": "text/x-python",
   "name": "python",
   "nbconvert_exporter": "python",
   "pygments_lexer": "ipython3",
   "version": "3.9.7"
  }
 },
 "nbformat": 4,
 "nbformat_minor": 5
}
